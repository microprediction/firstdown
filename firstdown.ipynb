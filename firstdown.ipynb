{
  "nbformat": 4,
  "nbformat_minor": 0,
  "metadata": {
    "colab": {
      "name": "firstdown.ipynb",
      "provenance": [],
      "authorship_tag": "ABX9TyN8A70RZWLSMIAgDdNpAXJF",
      "include_colab_link": true
    },
    "kernelspec": {
      "name": "python3",
      "display_name": "Python 3"
    }
  },
  "cells": [
    {
      "cell_type": "markdown",
      "metadata": {
        "id": "view-in-github",
        "colab_type": "text"
      },
      "source": [
        "<a href=\"https://colab.research.google.com/github/microprediction/firstdown/blob/main/firstdown.ipynb\" target=\"_parent\"><img src=\"https://colab.research.google.com/assets/colab-badge.svg\" alt=\"Open In Colab\"/></a>"
      ]
    },
    {
      "cell_type": "code",
      "metadata": {
        "id": "bASjzoIUTneR"
      },
      "source": [
        "import pandas as pd\n",
        "df = pd.read_csv('https://raw.githubusercontent.com/microprediction/nflMarkov/master/inputData/pbp_nfldb_2009_2013.csv')"
      ],
      "execution_count": null,
      "outputs": []
    },
    {
      "cell_type": "markdown",
      "metadata": {
        "id": "soQTR64QXTRx"
      },
      "source": [
        "This notebook seeks to destroy 100 years of American football strategy by showing that players should not try to get the first down. Not always.\n",
        "\n",
        "Well, actually this agrees entirely with the views of at least some offensive coordinators who reviewed the analysis. \n",
        "\n",
        "But we have a way to go before convincing every player, commentator, or fan. \n",
        "\n",
        "There is an article at https://www.microprediction.com/blog/nine which you are welcome to comment on. \n",
        "\n",
        "### Question (1) Should you run or pass on third and 1 ??"
      ]
    },
    {
      "cell_type": "markdown",
      "metadata": {
        "id": "6peWhkVMfAye"
      },
      "source": [
        "This is a little side question I was curious about. We need some facts about 3rd and 1 in what follows. The result is maybe slightly counter-intuitive but hardly revolutionary. "
      ]
    },
    {
      "cell_type": "code",
      "metadata": {
        "id": "Av65hAf8T2r5",
        "colab": {
          "base_uri": "https://localhost:8080/",
          "height": 141
        },
        "outputId": "56b718c5-e2b0-4601-a635-ba5ec1e5482c"
      },
      "source": [
        "df['got_1'] = df['yds']>=1\n",
        "records = df.to_dict(orient='records')\n",
        "third_and_1 = df[['dwn','ytg','yfog','type','got_1']].loc[(df['dwn']==3) & (df['ytg']==1) & (df['yfog']<50),:]\n",
        "third_and_1.groupby(by=['type']).mean()"
      ],
      "execution_count": null,
      "outputs": [
        {
          "output_type": "execute_result",
          "data": {
            "text/html": [
              "<div>\n",
              "<style scoped>\n",
              "    .dataframe tbody tr th:only-of-type {\n",
              "        vertical-align: middle;\n",
              "    }\n",
              "\n",
              "    .dataframe tbody tr th {\n",
              "        vertical-align: top;\n",
              "    }\n",
              "\n",
              "    .dataframe thead th {\n",
              "        text-align: right;\n",
              "    }\n",
              "</style>\n",
              "<table border=\"1\" class=\"dataframe\">\n",
              "  <thead>\n",
              "    <tr style=\"text-align: right;\">\n",
              "      <th></th>\n",
              "      <th>dwn</th>\n",
              "      <th>ytg</th>\n",
              "      <th>yfog</th>\n",
              "      <th>got_1</th>\n",
              "    </tr>\n",
              "    <tr>\n",
              "      <th>type</th>\n",
              "      <th></th>\n",
              "      <th></th>\n",
              "      <th></th>\n",
              "      <th></th>\n",
              "    </tr>\n",
              "  </thead>\n",
              "  <tbody>\n",
              "    <tr>\n",
              "      <th>PASS</th>\n",
              "      <td>3.0</td>\n",
              "      <td>1.0</td>\n",
              "      <td>33.500000</td>\n",
              "      <td>0.609804</td>\n",
              "    </tr>\n",
              "    <tr>\n",
              "      <th>RUSH</th>\n",
              "      <td>3.0</td>\n",
              "      <td>1.0</td>\n",
              "      <td>33.281056</td>\n",
              "      <td>0.721273</td>\n",
              "    </tr>\n",
              "  </tbody>\n",
              "</table>\n",
              "</div>"
            ],
            "text/plain": [
              "      dwn  ytg       yfog     got_1\n",
              "type                               \n",
              "PASS  3.0  1.0  33.500000  0.609804\n",
              "RUSH  3.0  1.0  33.281056  0.721273"
            ]
          },
          "metadata": {
            "tags": []
          },
          "execution_count": 2
        }
      ]
    },
    {
      "cell_type": "markdown",
      "metadata": {
        "id": "RMAMXWrWXfBx"
      },
      "source": [
        "Sure looks like you should RUSH ... even though the other team knows this. But this doesn't account for catching the other team off guard with a huge running play. By the way the mean yardage gains are 3.5 for run and 7.75 for passing..."
      ]
    },
    {
      "cell_type": "code",
      "metadata": {
        "id": "nBJvYZZLsWxl",
        "colab": {
          "base_uri": "https://localhost:8080/",
          "height": 141
        },
        "outputId": "ee6c17d3-650e-47b2-d06e-6885afeb5cdd"
      },
      "source": [
        "third_and_1_unconditional = df[['dwn','ytg','got_1','yds','type']].loc[(df['dwn']==3) & (df['ytg']==1) & (df['yfog']<50),:]\n",
        "third_and_1_unconditional.mean()\n",
        "third_and_1_unconditional.groupby(by=['type']).mean()\n"
      ],
      "execution_count": null,
      "outputs": [
        {
          "output_type": "execute_result",
          "data": {
            "text/html": [
              "<div>\n",
              "<style scoped>\n",
              "    .dataframe tbody tr th:only-of-type {\n",
              "        vertical-align: middle;\n",
              "    }\n",
              "\n",
              "    .dataframe tbody tr th {\n",
              "        vertical-align: top;\n",
              "    }\n",
              "\n",
              "    .dataframe thead th {\n",
              "        text-align: right;\n",
              "    }\n",
              "</style>\n",
              "<table border=\"1\" class=\"dataframe\">\n",
              "  <thead>\n",
              "    <tr style=\"text-align: right;\">\n",
              "      <th></th>\n",
              "      <th>dwn</th>\n",
              "      <th>ytg</th>\n",
              "      <th>got_1</th>\n",
              "      <th>yds</th>\n",
              "    </tr>\n",
              "    <tr>\n",
              "      <th>type</th>\n",
              "      <th></th>\n",
              "      <th></th>\n",
              "      <th></th>\n",
              "      <th></th>\n",
              "    </tr>\n",
              "  </thead>\n",
              "  <tbody>\n",
              "    <tr>\n",
              "      <th>PASS</th>\n",
              "      <td>3.0</td>\n",
              "      <td>1.0</td>\n",
              "      <td>0.609804</td>\n",
              "      <td>7.756863</td>\n",
              "    </tr>\n",
              "    <tr>\n",
              "      <th>RUSH</th>\n",
              "      <td>3.0</td>\n",
              "      <td>1.0</td>\n",
              "      <td>0.721273</td>\n",
              "      <td>3.484472</td>\n",
              "    </tr>\n",
              "  </tbody>\n",
              "</table>\n",
              "</div>"
            ],
            "text/plain": [
              "      dwn  ytg     got_1       yds\n",
              "type                              \n",
              "PASS  3.0  1.0  0.609804  7.756863\n",
              "RUSH  3.0  1.0  0.721273  3.484472"
            ]
          },
          "metadata": {
            "tags": []
          },
          "execution_count": 6
        }
      ]
    },
    {
      "cell_type": "markdown",
      "metadata": {
        "id": "jQQ7OVDOs2rl"
      },
      "source": [
        "However the mean yardage gains aren't important to us. What matters is the conditional mean yardage gains .. the gain when we make the first down. "
      ]
    },
    {
      "cell_type": "code",
      "metadata": {
        "id": "A3UP73RWXvBz",
        "colab": {
          "base_uri": "https://localhost:8080/",
          "height": 141
        },
        "outputId": "d905f516-30c1-4eeb-e09d-adec780270a9"
      },
      "source": [
        "third_and_1_got_it = df[['dwn','ytg','yfog','type','yds']].loc[(df['dwn']==3) & (df['ytg']==1) & (df['yfog']<50) & df['got_1']==True,:]\n",
        "third_and_1_got_it.groupby(by=['type']).mean()"
      ],
      "execution_count": null,
      "outputs": [
        {
          "output_type": "execute_result",
          "data": {
            "text/html": [
              "<div>\n",
              "<style scoped>\n",
              "    .dataframe tbody tr th:only-of-type {\n",
              "        vertical-align: middle;\n",
              "    }\n",
              "\n",
              "    .dataframe tbody tr th {\n",
              "        vertical-align: top;\n",
              "    }\n",
              "\n",
              "    .dataframe thead th {\n",
              "        text-align: right;\n",
              "    }\n",
              "</style>\n",
              "<table border=\"1\" class=\"dataframe\">\n",
              "  <thead>\n",
              "    <tr style=\"text-align: right;\">\n",
              "      <th></th>\n",
              "      <th>dwn</th>\n",
              "      <th>ytg</th>\n",
              "      <th>yfog</th>\n",
              "      <th>yds</th>\n",
              "    </tr>\n",
              "    <tr>\n",
              "      <th>type</th>\n",
              "      <th></th>\n",
              "      <th></th>\n",
              "      <th></th>\n",
              "      <th></th>\n",
              "    </tr>\n",
              "  </thead>\n",
              "  <tbody>\n",
              "    <tr>\n",
              "      <th>PASS</th>\n",
              "      <td>3.0</td>\n",
              "      <td>1.0</td>\n",
              "      <td>33.315113</td>\n",
              "      <td>12.755627</td>\n",
              "    </tr>\n",
              "    <tr>\n",
              "      <th>RUSH</th>\n",
              "      <td>3.0</td>\n",
              "      <td>1.0</td>\n",
              "      <td>33.399354</td>\n",
              "      <td>5.022605</td>\n",
              "    </tr>\n",
              "  </tbody>\n",
              "</table>\n",
              "</div>"
            ],
            "text/plain": [
              "      dwn  ytg       yfog        yds\n",
              "type                                \n",
              "PASS  3.0  1.0  33.315113  12.755627\n",
              "RUSH  3.0  1.0  33.399354   5.022605"
            ]
          },
          "metadata": {
            "tags": []
          },
          "execution_count": 28
        }
      ]
    },
    {
      "cell_type": "markdown",
      "metadata": {
        "id": "1F88YkCjYLGm"
      },
      "source": [
        "So when completing a third and 1, we get an average of 7.75 more yards on the pass compared to the run. Thus the question becomes, would you sacrifice 11% chance of first down for an extra 8 yards? \n",
        "\n",
        "My gut says go for the extra 7.75 yards. \n",
        "\n",
        "The key question here is, what is the value of a possession?In this and the following analysis we will use and approximate \"fact\", that the expected points scored on a drive varies from 0 to 4, roughly as we move from our own 20-ish yrd line to our opponents 20-ish yrd line. Very approximately, anyway, so 15 yards is worth a point. I'm talking ball-park numbers. \n",
        "\n",
        "On the other hand losing possession is worth -2 points, very roughly. For instance you can think about a punt from one's 40 yard line to the opponents 20. \n",
        "\n",
        "So, returning to our question, it seems to me that the extra 11% chance of losing possession when passing on 3rd and 1 instead of rushing, costs us about 0.2 points, whereas the extra yards we get passing are worth almost half a point. \n",
        "\n",
        "Or if you prefer, notice that one possession is worth 40 yards, say, whereas 11% chance of losing possession is therefore 4.4 yards... much less than 7.75 extra yards.\n",
        "\n",
        "Thus, you should pass on 3rd and 1. They won't be expecting it. \n",
        "\n",
        "\n",
        "Moving on..."
      ]
    },
    {
      "cell_type": "markdown",
      "metadata": {
        "id": "cIboE-lNZSne"
      },
      "source": [
        "### Should you stretch out for the first down if you have made 9 yards? \n",
        "\n",
        "Maybe the previous analysis doesn't surprise you. After all, how often do we see a defensive blitz open up the field and with it, the concession of a huge touchdown play on 3rd and 1? \n",
        "\n",
        "But now I will really rile you up. \n",
        "\n",
        "The first down has been onsidered a holy destination ... to be achieved whenever players can. How often do you see someone compleminted because after they catch they made the extra few yards to get the first down? \n",
        "\n",
        "Thing is ... this has never struck me as sensible, at least on the first down. I set out to prove that if a player can only just get to the first down (I mean literally stretch out and get the ball to the first down line) they are better off not making the first down at all.  \n",
        "\n",
        "In other words, I claim that 2nd and 1 is a better position to be in than 1st and 10 (even accounting for that extra yard)\n",
        "This is the real reason I wanted to look at the 3rd and 1 data, as above, because we'd be needing it. \n",
        "\n",
        "### A new strategy on first down\n",
        "\n",
        "I'm going to pretend we have said to our players \"look, don't stretch out for the first down - take the 9 yards and we'll rush the next two plays\". \n",
        "\n",
        "Minor point: of course there is no reason to rush every time from 2nd and 1, but that is ONE sub-strategy and it suffices to show that ONE sub-strategy makes the original decision (not getting the first down) the right one. \n",
        "\n",
        "Now, we have seen what happens on 3rd and 1, rushing. Roughly 72% of the time you you get an average of 5 yards. Otherwise you lose possession. \n",
        "\n",
        "Now, if you are 2nd and 1, let's see what happens typically. We will simplify by staying in the first half of the field.  \n"
      ]
    },
    {
      "cell_type": "code",
      "metadata": {
        "id": "X84A93FHZ26x",
        "colab": {
          "base_uri": "https://localhost:8080/",
          "height": 121
        },
        "outputId": "ba6bc591-964a-4ca1-aba9-ed74ef2016f1"
      },
      "source": [
        "second_and_1 = df[['dwn','ytg','yfog','type','got_1','yds']].loc[(df['dwn']==2) & (df['ytg']==1) & (df['yfog']<50),:]\n",
        "second_and_1.mean()"
      ],
      "execution_count": null,
      "outputs": [
        {
          "output_type": "execute_result",
          "data": {
            "text/plain": [
              "dwn       2.000000\n",
              "ytg       1.000000\n",
              "yfog     34.038610\n",
              "got_1     0.725097\n",
              "yds       5.302703\n",
              "dtype: float64"
            ]
          },
          "metadata": {
            "tags": []
          },
          "execution_count": 7
        }
      ]
    },
    {
      "cell_type": "markdown",
      "metadata": {
        "id": "3t-5Hjy7aLC-"
      },
      "source": [
        "The chance of making at least 1 yard is also 72 percent. By coincidence, I would say. "
      ]
    },
    {
      "cell_type": "code",
      "metadata": {
        "id": "TbIY4OLJZQU2",
        "colab": {
          "base_uri": "https://localhost:8080/",
          "height": 141
        },
        "outputId": "69bba316-58c0-4bdc-f4d4-02f7bb37b724"
      },
      "source": [
        "second_and_1.groupby(by='type').mean()"
      ],
      "execution_count": null,
      "outputs": [
        {
          "output_type": "execute_result",
          "data": {
            "text/html": [
              "<div>\n",
              "<style scoped>\n",
              "    .dataframe tbody tr th:only-of-type {\n",
              "        vertical-align: middle;\n",
              "    }\n",
              "\n",
              "    .dataframe tbody tr th {\n",
              "        vertical-align: top;\n",
              "    }\n",
              "\n",
              "    .dataframe thead th {\n",
              "        text-align: right;\n",
              "    }\n",
              "</style>\n",
              "<table border=\"1\" class=\"dataframe\">\n",
              "  <thead>\n",
              "    <tr style=\"text-align: right;\">\n",
              "      <th></th>\n",
              "      <th>dwn</th>\n",
              "      <th>ytg</th>\n",
              "      <th>yfog</th>\n",
              "      <th>got_1</th>\n",
              "      <th>yds</th>\n",
              "    </tr>\n",
              "    <tr>\n",
              "      <th>type</th>\n",
              "      <th></th>\n",
              "      <th></th>\n",
              "      <th></th>\n",
              "      <th></th>\n",
              "      <th></th>\n",
              "    </tr>\n",
              "  </thead>\n",
              "  <tbody>\n",
              "    <tr>\n",
              "      <th>PASS</th>\n",
              "      <td>2.0</td>\n",
              "      <td>1.0</td>\n",
              "      <td>33.597087</td>\n",
              "      <td>0.560680</td>\n",
              "      <td>6.521845</td>\n",
              "    </tr>\n",
              "    <tr>\n",
              "      <th>RUSH</th>\n",
              "      <td>2.0</td>\n",
              "      <td>1.0</td>\n",
              "      <td>34.244621</td>\n",
              "      <td>0.801812</td>\n",
              "      <td>4.733862</td>\n",
              "    </tr>\n",
              "  </tbody>\n",
              "</table>\n",
              "</div>"
            ],
            "text/plain": [
              "      dwn  ytg       yfog     got_1       yds\n",
              "type                                         \n",
              "PASS  2.0  1.0  33.597087  0.560680  6.521845\n",
              "RUSH  2.0  1.0  34.244621  0.801812  4.733862"
            ]
          },
          "metadata": {
            "tags": []
          },
          "execution_count": 8
        }
      ]
    },
    {
      "cell_type": "markdown",
      "metadata": {
        "id": "H9bZxVc8ab9x"
      },
      "source": [
        "Note that (no surprise) one is vastly more likely to make the first down rushing. A huge 80% chance because the defence plays very differently. They are less likely to leave the field wide open with a blitz, for example, since the upside of a stop isn't as high as it is for a 3rd down and 1 situation. \n",
        "\n",
        "When we rush, we get an average of 4.7 yards. (Aside: teams tend to rush less often on 2nd and 1 than 3rd and 1 but maybe they should rethink that). \n",
        "\n",
        "But here's the rub. If we fail to get the 1 yrd on 2nd down, it is still 3rd down and we will, as we have seen above, have a 0.72 chance of getting the yard we need. And when we do, we'll make an average of 5 yrds. So, noting that..."
      ]
    },
    {
      "cell_type": "code",
      "metadata": {
        "id": "7IZIEhaKa8xN",
        "colab": {
          "base_uri": "https://localhost:8080/",
          "height": 35
        },
        "outputId": "c4ee1d46-8264-4e57-a894-615f7bcc4419"
      },
      "source": [
        "1/((1-0.8)*(1-0.72))"
      ],
      "execution_count": null,
      "outputs": [
        {
          "output_type": "execute_result",
          "data": {
            "text/plain": [
              "17.857142857142858"
            ]
          },
          "metadata": {
            "tags": []
          },
          "execution_count": 34
        }
      ]
    },
    {
      "cell_type": "markdown",
      "metadata": {
        "id": "khbKyhE7bBls"
      },
      "source": [
        "Showing that there is only a 1/18 chance of giving up possession because we voluntarily elected *not* to get the 1st down. The calculus is now very easy. Going back to our original decision, if we decide to stretch out and get the first down then we will be 1 yard further ahead than if we stop at 9 yards. On the other hand, if we stop and play 2nd and 1 and then make at least one rushing play (or two if needed) we will, with roughly 94% chance, advance 4.9 yards to a 1st down which will be 3.9 yards on average further down the field. So the only question is, would you accept a 6% chance of losing possession (assuming punt) in exchange for 4 yards? Remember that this isn't a 4th and 1 situation. We will be punting regardless. And we'll assume that we are midfield somewhere expecting a net punt of a little over 40 yards. A change of possession is probably going to cost us a tad over 2 points. We can think of a loss of possession directly in yards, in fact. So let's call it 40 yards. \n",
        "\n",
        "I say ... don't take the extra yard! \n",
        "\n",
        "You have ... 6%  chance of losing 40 yards when you stop at 9 yards and voluntarily don't get the first down ... but 94% chance of making an extra 4 yards, on average. \n",
        "\n",
        "You can quibble with my valuation of a loss of possession if you like, but I doubt very much you can make the first down stretch look like good strategy. \n",
        "\n",
        "In order for that last yard stretch to be a good idea, you need the value of a possession to correspond to roughly 17 multiplied by the average yards gained minus one. In other words, you need possession to be valued at roughly 66.3 yards. There is no way that's true, even if you have the best Australian rules punter on your team. \n",
        "\n",
        "### Conclusion\n",
        "\n",
        "So there you have it. 2nd and 1, less 1 yard, beats 1st and 10. It isn't even close. Tell your players to resist the urge to get just 1 more yards if it is still your first down. \n",
        "\n",
        "Interestingly, note that 2.9*17=49 so this means that you should stop at 9 yards even if you can get another 2 yards, unless you are given to thinking that posession is worth more than 49 yards. It surely is not. So tell them to stop at 9 yards unless they can make another 3 yards, or maybe even 4. \n",
        "\n",
        "\n",
        "\n",
        "\n",
        "\n",
        "\n",
        "\n",
        "\n",
        "\n",
        "\n",
        "\n",
        "\n",
        "\n",
        "\n",
        "\n"
      ]
    },
    {
      "cell_type": "code",
      "metadata": {
        "id": "VU2mUP9TUPMV"
      },
      "source": [
        ""
      ],
      "execution_count": null,
      "outputs": []
    },
    {
      "cell_type": "markdown",
      "metadata": {
        "id": "_PiTp5wnr4ot"
      },
      "source": [
        "# Odds and ends \n",
        "Let's go a little deeper, and answer a few more questions.\n",
        "First, is there any evidence that teams or players are already trying for 9 yard advances? This should show up in the histogram of first town yardages. \n"
      ]
    },
    {
      "cell_type": "code",
      "metadata": {
        "id": "RCpQkXjLsFlD",
        "colab": {
          "base_uri": "https://localhost:8080/",
          "height": 316
        },
        "outputId": "2802f1a2-0f62-4214-b3d1-ba8c82b364f1"
      },
      "source": [
        "gains_on_first = df.loc[(df['dwn']==1)& (df['ytg']==10) & (df['type']=='RUSH') & (df['yds']<15) & (df['yds']>5),:]\n",
        "gains_on_first[['yds']].rename(columns={'yds':'First Down Yards Gained'}).hist(bins=50)\n"
      ],
      "execution_count": null,
      "outputs": [
        {
          "output_type": "execute_result",
          "data": {
            "text/plain": [
              "array([[<matplotlib.axes._subplots.AxesSubplot object at 0x7fcfb5228400>]],\n",
              "      dtype=object)"
            ]
          },
          "metadata": {
            "tags": []
          },
          "execution_count": 33
        },
        {
          "output_type": "display_data",
          "data": {
            "image/png": "[encoded data removed]",
            "text/plain": [
              "<Figure size 432x288 with 1 Axes>"
            ]
          },
          "metadata": {
            "tags": [],
            "needs_background": "light"
          }
        }
      ]
    },
    {
      "cell_type": "markdown",
      "metadata": {
        "id": "rPUjjy-Qw93v"
      },
      "source": [
        "We see that indeed players are making some attempt to stop at the nine yard line ... perhaps. Although it could be that the defensive teams also need coaching. Are they trying too hard to stop the player short of the marker? \n",
        "\n",
        "In any case, the optimal strategy is to have zero gains of 10 yards and a bigger spike at 9 yard gains. Similarly, there should be fewer 11 yard gains than 12 yard gains but we see the opposite here. \n",
        "\n",
        "What about restricting to passing, when (perhaps) there is more control?"
      ]
    },
    {
      "cell_type": "code",
      "metadata": {
        "id": "pD5rKIl2z696",
        "colab": {
          "base_uri": "https://localhost:8080/",
          "height": 316
        },
        "outputId": "43fecd4b-c3df-4eff-96f2-ec5f361dddbf"
      },
      "source": [
        "gains_on_first_pass = df.loc[(df['dwn']==1)& (df['ytg']==10) & (df['type']=='RUSH') & (df['yds']<15) & (df['yds']>5),:]\n",
        "gains_on_first_pass[['yds']].rename(columns={'yds':'First Down Yards Gained Passing'}).hist(bins=50)"
      ],
      "execution_count": null,
      "outputs": [
        {
          "output_type": "execute_result",
          "data": {
            "text/plain": [
              "array([[<matplotlib.axes._subplots.AxesSubplot object at 0x7fcfb50b1b70>]],\n",
              "      dtype=object)"
            ]
          },
          "metadata": {
            "tags": []
          },
          "execution_count": 34
        },
        {
          "output_type": "display_data",
          "data": {
            "image/png": "[encoded data removed]",
            "text/plain": [
              "<Figure size 432x288 with 1 Axes>"
            ]
          },
          "metadata": {
            "tags": [],
            "needs_background": "light"
          }
        }
      ]
    },
    {
      "cell_type": "code",
      "metadata": {
        "id": "6ciKSFiwz10v",
        "colab": {
          "base_uri": "https://localhost:8080/",
          "height": 316
        },
        "outputId": "ec1e46b6-ea9a-4ed9-d7db-e8f40d6db3b5"
      },
      "source": [
        "gains_on_first_pass = df.loc[(df['dwn']==1)& (df['ytg']==5) & (df['yds']<10) & (df['yds']>=1),:]\n",
        "gains_on_first_pass[['yds']].rename(columns={'yds':'First Down Yards (1st and 5) '}).hist(bins=50)"
      ],
      "execution_count": null,
      "outputs": [
        {
          "output_type": "execute_result",
          "data": {
            "text/plain": [
              "array([[<matplotlib.axes._subplots.AxesSubplot object at 0x7fcfb4ffb400>]],\n",
              "      dtype=object)"
            ]
          },
          "metadata": {
            "tags": []
          },
          "execution_count": 36
        },
        {
          "output_type": "display_data",
          "data": {
            "image/png": "[encoded data removed]",
            "text/plain": [
              "<Figure size 432x288 with 1 Axes>"
            ]
          },
          "metadata": {
            "tags": [],
            "needs_background": "light"
          }
        }
      ]
    },
    {
      "cell_type": "code",
      "metadata": {
        "id": "kYmEUGlV3Pk8",
        "colab": {
          "base_uri": "https://localhost:8080/",
          "height": 52
        },
        "outputId": "ccd5b590-d72f-4627-b8c7-bb140ab497bb"
      },
      "source": [
        "df['got_5'] = df['yds']>=5 \n",
        "first_and_five = df.loc[(df['dwn']==1)& (df['ytg']==5) & (df['yfog']<50),:]\n",
        "first_and_five[['got_5']].mean()"
      ],
      "execution_count": null,
      "outputs": [
        {
          "output_type": "execute_result",
          "data": {
            "text/plain": [
              "got_5    0.419244\n",
              "dtype: float64"
            ]
          },
          "metadata": {
            "tags": []
          },
          "execution_count": 38
        }
      ]
    },
    {
      "cell_type": "code",
      "metadata": {
        "id": "l2VkInidr3pE",
        "colab": {
          "base_uri": "https://localhost:8080/",
          "height": 35
        },
        "outputId": "2ca3a77f-26fe-4920-89bc-5bc014c8909c"
      },
      "source": [
        "df['got_4'] = df['yds']>=4 \n",
        "and_four = df.loc[(df['dwn']<=2)& (df['ytg']==4) & (df['yfog']<50),:]\n",
        "and_four['got_4'].mean()"
      ],
      "execution_count": null,
      "outputs": [
        {
          "output_type": "execute_result",
          "data": {
            "text/plain": [
              "0.46536523929471035"
            ]
          },
          "metadata": {
            "tags": []
          },
          "execution_count": 43
        }
      ]
    },
    {
      "cell_type": "code",
      "metadata": {
        "id": "lcx1wWXbUNnc",
        "colab": {
          "base_uri": "https://localhost:8080/",
          "height": 35
        },
        "outputId": "5a887a9a-fce1-483e-b512-1e635c580ef2"
      },
      "source": [
        "465/419"
      ],
      "execution_count": null,
      "outputs": [
        {
          "output_type": "execute_result",
          "data": {
            "text/plain": [
              "1.1097852028639619"
            ]
          },
          "metadata": {
            "tags": []
          },
          "execution_count": 44
        }
      ]
    }
  ]
}